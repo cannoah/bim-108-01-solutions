{
 "cells": [
  {
   "cell_type": "markdown",
   "metadata": {
    "deletable": false
   },
   "source": [
    "# XML: Fortgeschrittene Themen"
   ]
  },
  {
   "cell_type": "markdown",
   "metadata": {
    "deletable": false
   },
   "source": [
    "In der Vorlesung haben wir einige fortgeschrittene Themen behandelt, wie XML Baumstruktur, Vokabularien mit XML, und XML Programmierung. Hier werden wir diese Themen etwas in der Praxis anschauen."
   ]
  },
  {
   "cell_type": "markdown",
   "metadata": {
    "deletable": false
   },
   "source": [
    "## XML Baumstruktur\n",
    "\n",
    "Da jedes XML Dokument genau ein Wurzelelement (*root element*) hat und Kindelement (*child elements*) entsprechend verschachtelt, kann jedes (wohlgeformte) XML Dokument als Baum dargestellt werden. Probieren Sie dies in dieser Übung. Die Funktion `print_tree` wird Ihnen dabei helfen. Schauen Sie sich das folgende XML Dokument an und schreiben Sie dann Ihr eigenes. Wie verändert sich das Verhalten der `print_tree` Funktion wenn die beiden kommentierten Zeilen ausgeführt werden?"
   ]
  },
  {
   "cell_type": "code",
   "execution_count": 16,
   "metadata": {
    "collapsed": true,
    "deletable": false
   },
   "outputs": [],
   "source": [
    "def print_tree(xml):\n",
    "    level = 0\n",
    "    context = et.iterwalk(xml, events=('start', 'end'))\n",
    "    for event, element in context:\n",
    "        if event == 'start':\n",
    "            print('{}> {}'.format('  ' * level, element.tag))\n",
    "            if not len(element):\n",
    "                print('{}> {}'.format('  ' * (level + 1), element.text))\n",
    "            level = level + 1\n",
    "        if event == 'end':\n",
    "            level = level - 1"
   ]
  },
  {
   "cell_type": "code",
   "execution_count": 17,
   "metadata": {
    "deletable": false
   },
   "outputs": [
    {
     "name": "stdout",
     "output_type": "stream",
     "text": [
      "> discography\n",
      "  > albums\n",
      "    > album\n",
      "      > title\n",
      "        > The Dark Side of the Moon\n",
      "      > released\n",
      "        > 16 March 1973\n",
      "    > album\n",
      "      > title\n",
      "        > The Wall\n",
      "      > released\n",
      "        > 30 November 1979\n"
     ]
    }
   ],
   "source": [
    "from lxml import etree as et\n",
    "\n",
    "doc = \"\"\"<discography><albums>\n",
    "<album><title>The Dark Side of the Moon</title><released>16 March 1973</released></album>\n",
    "<album><title>The Wall</title><released>30 November 1979</released></album>\n",
    "</albums></discography>\n",
    "\"\"\"\n",
    "\n",
    "print_tree(et.fromstring(doc))"
   ]
  },
  {
   "cell_type": "code",
   "execution_count": 18,
   "metadata": {
    "deletable": false
   },
   "outputs": [
    {
     "name": "stdout",
     "output_type": "stream",
     "text": [
      "> burger\n",
      "  > brötchen\n",
      "    > patties\n",
      "      > None\n",
      "    > salat\n",
      "      > None\n",
      "    > sauce\n",
      "      > None\n",
      "    > bacon\n",
      "      > None\n",
      "  > brötchen\n",
      "    > None\n"
     ]
    }
   ],
   "source": [
    "from lxml import etree as et\n",
    "\n",
    "# My XML document ...\n",
    "doc = \"\"\"<burger><brötchen><patties></patties><salat></salat><sauce></sauce><bacon></bacon></brötchen><brötchen></brötchen></burger>\n",
    "\n",
    "\"\"\"\n",
    "\n",
    "print_tree(et.fromstring(doc))"
   ]
  },
  {
   "cell_type": "markdown",
   "metadata": {
    "deletable": false
   },
   "source": [
    "## Vokabularien in XML\n",
    "\n",
    "Spannen Sie mit Ihrem Nachbarn zusammen und legen Sie sich auf ein Themenbereich fest, z.B. Adressen, Bücher, oder Personen. Überlegen Sie sich dann einzeln ein XML Vokabular für den gewählten Themenbereich. Welche Elemente benötigt man um den Themenbereich zu beschreiben? \n",
    "\n",
    "Im folgenden Block schreiben Sie dann ein beispielhaftes XML Dokument. Diskutieren Sie danach mit Ihrem Nachbarn Ihr gewähltes Vokabular und das Beispiel. Bestimmt gibt es Unterschiede! Haben die beiden erstellten Vokabulare unterschiedliche Terme? Wurden diese als *Tag* oder *Attribut* modelliert? \n",
    "\n",
    "Diskutieren Sie mit Ihrem Nachbarn die Vor- und Nachteile der Vokabularien und versuchen Sie sich zu einigen.\n",
    "\n",
    "**Hinweis:** Die Übung können Sie auch von zuhause ausführen, indem Sie mit Kommiliton*innen über Email kommunizieren. Arbeitskollegen sitzen nicht immer im gleichen Raum!"
   ]
  },
  {
   "cell_type": "markdown",
   "metadata": {
    "deletable": false
   },
   "source": [
    "**My vocabulary for Personen**\n",
    "\n",
    "<personen>\n",
    "Geschlecht\n",
    "Alter\n",
    "Größe\n",
    "Haarfarbe\n",
    "Augenfarbe\n",
    "Gewicht\n",
    "Schuhgröße\n",
    "</personen>"
   ]
  },
  {
   "cell_type": "markdown",
   "metadata": {
    "deletable": false
   },
   "source": [
    "## XML in der Programmierung\n",
    "\n",
    "XML Daten können programmatisch aus den verschiedesten Sourcen gelesen werden. String Variablen hatten wir in den Übungen schon mehrmals. XML Daten können selbstverständlich auch aus Dateien oder dem Internet gelesen werden. Das folgende Beispiel liest die `example.xml` Datei welche im gleichen Verzeichnis wie dieses Notebook liegt."
   ]
  },
  {
   "cell_type": "code",
   "execution_count": 1,
   "metadata": {
    "deletable": false
   },
   "outputs": [
    {
     "ename": "OSError",
     "evalue": "Error reading file 'example.xml': failed to load external entity \"example.xml\"",
     "output_type": "error",
     "traceback": [
      "\u001b[1;31m---------------------------------------------------------------------------\u001b[0m",
      "\u001b[1;31mOSError\u001b[0m                                   Traceback (most recent call last)",
      "\u001b[1;32m<ipython-input-1-13fdd2eae6be>\u001b[0m in \u001b[0;36m<module>\u001b[1;34m()\u001b[0m\n\u001b[0;32m      1\u001b[0m \u001b[1;32mfrom\u001b[0m \u001b[0mlxml\u001b[0m \u001b[1;32mimport\u001b[0m \u001b[0metree\u001b[0m \u001b[1;32mas\u001b[0m \u001b[0met\u001b[0m\u001b[1;33m\u001b[0m\u001b[0m\n\u001b[0;32m      2\u001b[0m \u001b[1;33m\u001b[0m\u001b[0m\n\u001b[1;32m----> 3\u001b[1;33m \u001b[0mdoc\u001b[0m \u001b[1;33m=\u001b[0m \u001b[0met\u001b[0m\u001b[1;33m.\u001b[0m\u001b[0mparse\u001b[0m\u001b[1;33m(\u001b[0m\u001b[1;34m'example.xml'\u001b[0m\u001b[1;33m)\u001b[0m\u001b[1;33m\u001b[0m\u001b[0m\n\u001b[0m\u001b[0;32m      4\u001b[0m \u001b[1;33m\u001b[0m\u001b[0m\n\u001b[0;32m      5\u001b[0m \u001b[0mprint\u001b[0m\u001b[1;33m(\u001b[0m\u001b[0met\u001b[0m\u001b[1;33m.\u001b[0m\u001b[0mtostring\u001b[0m\u001b[1;33m(\u001b[0m\u001b[0mdoc\u001b[0m\u001b[1;33m,\u001b[0m \u001b[0mpretty_print\u001b[0m\u001b[1;33m=\u001b[0m\u001b[1;32mTrue\u001b[0m\u001b[1;33m)\u001b[0m\u001b[1;33m.\u001b[0m\u001b[0mdecode\u001b[0m\u001b[1;33m(\u001b[0m\u001b[1;34m'utf-8'\u001b[0m\u001b[1;33m)\u001b[0m\u001b[1;33m)\u001b[0m\u001b[1;33m\u001b[0m\u001b[0m\n",
      "\u001b[1;32msrc/lxml/etree.pyx\u001b[0m in \u001b[0;36mlxml.etree.parse (src\\lxml\\etree.c:83185)\u001b[1;34m()\u001b[0m\n",
      "\u001b[1;32msrc/lxml/parser.pxi\u001b[0m in \u001b[0;36mlxml.etree._parseDocument (src\\lxml\\etree.c:120757)\u001b[1;34m()\u001b[0m\n",
      "\u001b[1;32msrc/lxml/parser.pxi\u001b[0m in \u001b[0;36mlxml.etree._parseDocumentFromURL (src\\lxml\\etree.c:121104)\u001b[1;34m()\u001b[0m\n",
      "\u001b[1;32msrc/lxml/parser.pxi\u001b[0m in \u001b[0;36mlxml.etree._parseDocFromFile (src\\lxml\\etree.c:120012)\u001b[1;34m()\u001b[0m\n",
      "\u001b[1;32msrc/lxml/parser.pxi\u001b[0m in \u001b[0;36mlxml.etree._BaseParser._parseDocFromFile (src\\lxml\\etree.c:114561)\u001b[1;34m()\u001b[0m\n",
      "\u001b[1;32msrc/lxml/parser.pxi\u001b[0m in \u001b[0;36mlxml.etree._ParserContext._handleParseResultDoc (src\\lxml\\etree.c:107738)\u001b[1;34m()\u001b[0m\n",
      "\u001b[1;32msrc/lxml/parser.pxi\u001b[0m in \u001b[0;36mlxml.etree._handleParseResult (src\\lxml\\etree.c:109447)\u001b[1;34m()\u001b[0m\n",
      "\u001b[1;32msrc/lxml/parser.pxi\u001b[0m in \u001b[0;36mlxml.etree._raiseParseError (src\\lxml\\etree.c:108258)\u001b[1;34m()\u001b[0m\n",
      "\u001b[1;31mOSError\u001b[0m: Error reading file 'example.xml': failed to load external entity \"example.xml\""
     ]
    }
   ],
   "source": [
    "from lxml import etree as et\n",
    "\n",
    "doc = et.parse('example.xml')\n",
    "\n",
    "print(et.tostring(doc, pretty_print=True).decode('utf-8'))"
   ]
  },
  {
   "cell_type": "markdown",
   "metadata": {
    "deletable": false
   },
   "source": [
    "In der Vorlesung haben wir gesehen wie man XML auch programmatisch schreiben kann. Probieren Sie es hier aus indem Sie das Beispiel entsprechend dem vorherigen XML Dokument vervollständigen."
   ]
  },
  {
   "cell_type": "code",
   "execution_count": 4,
   "metadata": {
    "deletable": false
   },
   "outputs": [
    {
     "name": "stdout",
     "output_type": "stream",
     "text": [
      "<discography>\n",
      "  <albums>\n",
      "    <album>\n",
      "      <title>The Dark Side of the Moon</title>\n",
      "      <released day=\"16\" month=\"March\" year=\"1973\"/>\n",
      "    </album>\n",
      "    <album>\n",
      "      <title>The Wall</title>\n",
      "      <released>\n",
      "        <day>30</day>\n",
      "        <month>November</month>\n",
      "        <year>1979</year>\n",
      "      </released>\n",
      "    </album>\n",
      "  </albums>\n",
      "</discography>\n",
      "\n"
     ]
    }
   ],
   "source": [
    "from lxml import etree as et\n",
    "\n",
    "discography = et.Element('discography')\n",
    "albums = et.SubElement(discography, 'albums')\n",
    "album_1 = et.SubElement(albums, 'album')\n",
    "album_1_title = et.SubElement(album_1, 'title')\n",
    "album_1_title.text = 'The Dark Side of the Moon'\n",
    "album_1_released = et.SubElement(album_1, 'released')\n",
    "album_1_released.set('day', '16')\n",
    "album_1_released.set('month', 'March')\n",
    "album_1_released.set('year', '1973')\n",
    "album_2 = et.SubElement(albums, 'album')\n",
    "album_2_title = et.SubElement(album_2, 'title')\n",
    "album_2_title.text = 'The Wall'\n",
    "album_2_released = et.SubElement(album_2, 'released')\n",
    "album_2_released_day = et.SubElement(album_2_released, 'day')\n",
    "album_2_released_month = et.SubElement(album_2_released, 'month')\n",
    "album_2_released_year = et.SubElement(album_2_released, 'year')\n",
    "album_2_released_day.text = '30'\n",
    "album_2_released_month.text = 'November'\n",
    "album_2_released_year.text = '1979'\n",
    "\n",
    "# Complete the example to match the previous XML document\n",
    "\n",
    "print(et.tostring(discography, pretty_print=True).decode('utf-8'))"
   ]
  },
  {
   "cell_type": "markdown",
   "metadata": {
    "deletable": false
   },
   "source": [
    "Schreiben Sie ihre discographie in eine Datei. Benennen Sie diese `discography.xml`. \n",
    "\n",
    "Schauen Sie im Verzeichnis nach ob die Datei korrekt gespeichert wurde."
   ]
  },
  {
   "cell_type": "code",
   "execution_count": 7,
   "metadata": {
    "deletable": false
   },
   "outputs": [],
   "source": [
    "from lxml import etree as et\n",
    "\n",
    "t = et.ElementTree(discography)\n",
    "# Edit the file name accordingly\n",
    "t.write(file='discography.xml', pretty_print=True)"
   ]
  },
  {
   "cell_type": "markdown",
   "metadata": {
    "deletable": false
   },
   "source": [
    "Im nächsten Beispiel travesieren wir unser XML Dokument rekursiv."
   ]
  },
  {
   "cell_type": "code",
   "execution_count": 8,
   "metadata": {
    "deletable": false
   },
   "outputs": [
    {
     "name": "stdout",
     "output_type": "stream",
     "text": [
      "albums\n",
      "album\n",
      "title: The Dark Side of the Moon\n",
      "released\n",
      "album\n",
      "title: The Wall\n",
      "released\n",
      "day: 30\n",
      "month: November\n",
      "year: 1979\n"
     ]
    }
   ],
   "source": [
    "def expand(element):\n",
    "    for child in element:\n",
    "        if len(child) or child.text == None:\n",
    "            print('{}'.format(child.tag))\n",
    "        else:\n",
    "            print('{}: {}'.format(child.tag, child.text))\n",
    "        expand(child)\n",
    "        \n",
    "expand(discography)"
   ]
  },
  {
   "cell_type": "markdown",
   "metadata": {
    "deletable": false
   },
   "source": [
    "Das letzte Beispiel liest nun ein XML Dokument von einem Web Service und sucht nach einem bestimmten Element, wobei der Textinhalt ausgeschrieben wird. Dies ist die DOI `10.1594/PANGAEA.858171`.\n",
    "\n",
    "Was geschieht in diesem Programmcode eigentlich? Benutzen Sie `print()` um das XML Dokument anzuschauen.\n",
    "\n",
    "Was ist eine DOI? Fragen Sie Ihren Nachbarn oder suchen Sie im Internet danach.\n",
    "\n",
    "Was ist [PANGAEA](https://pangaea.de)? Suchen Sie nach der DOI in PANGAEA. Was erhalten Sie?\n",
    "\n",
    "Bilden Sie die `url` so, dass Sie diese in einem Browser ausführen können. Was erhalten Sie? Schauen Sie sich auch den `source` der Seite an."
   ]
  },
  {
   "cell_type": "code",
   "execution_count": 23,
   "metadata": {
    "deletable": false,
    "scrolled": false
   },
   "outputs": [
    {
     "name": "stdout",
     "output_type": "stream",
     "text": [
      "10.1594/PANGAEA.858171\n"
     ]
    }
   ],
   "source": [
    "import requests\n",
    "from lxml import etree as et\n",
    "\n",
    "url = '{}?verb={}&metadataPrefix={}&identifier={}'.format(\n",
    "    'http://ws.pangaea.de/oai/provider',\n",
    "    'GetRecord', \n",
    "    'datacite3', \n",
    "    'oai:pangaea.de:doi:10.1594/PANGAEA.858171'\n",
    ")\n",
    "    \n",
    "r = requests.get(url)\n",
    "\n",
    "x = et.XML(bytes(bytearray(r.text, 'utf-8')))\n",
    "\n",
    "print(x.find('.//{http://datacite.org/schema/kernel-3}identifier[@identifierType=\"DOI\"]').text)"
   ]
  },
  {
   "cell_type": "code",
   "execution_count": 9,
   "metadata": {},
   "outputs": [
    {
     "ename": "SyntaxError",
     "evalue": "invalid syntax (<ipython-input-9-a053ae06d79e>, line 1)",
     "output_type": "error",
     "traceback": [
      "\u001b[1;36m  File \u001b[1;32m\"<ipython-input-9-a053ae06d79e>\"\u001b[1;36m, line \u001b[1;32m1\u001b[0m\n\u001b[1;33m    https://doi.pangaea.de/10.1594/PANGAEA.858171\u001b[0m\n\u001b[1;37m           ^\u001b[0m\n\u001b[1;31mSyntaxError\u001b[0m\u001b[1;31m:\u001b[0m invalid syntax\n"
     ]
    }
   ],
   "source": [
    "https://doi.pangaea.de/10.1594/PANGAEA.858171"
   ]
  },
  {
   "cell_type": "code",
   "execution_count": null,
   "metadata": {},
   "outputs": [],
   "source": []
  }
 ],
 "metadata": {
  "kernelspec": {
   "display_name": "Python 3",
   "language": "python",
   "name": "python3"
  },
  "language_info": {
   "codemirror_mode": {
    "name": "ipython",
    "version": 3
   },
   "file_extension": ".py",
   "mimetype": "text/x-python",
   "name": "python",
   "nbconvert_exporter": "python",
   "pygments_lexer": "ipython3",
   "version": "3.6.4"
  }
 },
 "nbformat": 4,
 "nbformat_minor": 2
}
